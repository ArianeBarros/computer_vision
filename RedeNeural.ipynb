{
  "nbformat": 4,
  "nbformat_minor": 0,
  "metadata": {
    "colab": {
      "provenance": []
    },
    "kernelspec": {
      "name": "python3",
      "display_name": "Python 3"
    },
    "language_info": {
      "name": "python"
    }
  },
  "cells": [
    {
      "cell_type": "markdown",
      "source": [
        "## Configurações iniciais"
      ],
      "metadata": {
        "id": "F9XdN3GcdXnK"
      }
    },
    {
      "cell_type": "code",
      "source": [
        "# Importações\n",
        "import tensorflow as tf\n",
        "\n",
        "# Carregando a base de dados\n",
        "mnist = tf.keras.datasets.mnist\n",
        "\n",
        "# Carregando o conjunto de treinamento e o conjunto de teste\n",
        "(x_train, y_train),(x_test, y_test) = mnist.load_data()\n",
        "x_train, x_test = x_train / 255.0, x_test / 255.0"
      ],
      "metadata": {
        "id": "1cyjrYWVaxuM"
      },
      "execution_count": null,
      "outputs": []
    },
    {
      "cell_type": "markdown",
      "source": [
        "## Execução 1"
      ],
      "metadata": {
        "id": "DGGv0Rn4cSMF"
      }
    },
    {
      "cell_type": "code",
      "source": [
        "# Estruturando a arquitetura da rede/ modelo\n",
        "model = tf.keras.models.Sequential([\n",
        " tf.keras.layers.Flatten(),\n",
        " tf.keras.layers.Dense(100, activation=tf.nn.tanh),\n",
        " tf.keras.layers.Dense(50, activation=tf.nn.tanh),\n",
        " tf.keras.layers.Dense(10, activation=tf.nn.softmax)\n",
        "])\n",
        "\n",
        "# Compilando o modelo\n",
        "## Utiliza o otimizador ADAM\n",
        "## Função de perda: sparse_categorical_crossentropy\n",
        "## Métrica empregada: accuracy\n",
        "\n",
        "model.compile(optimizer='adam',\n",
        " loss='sparse_categorical_crossentropy',\n",
        " metrics=['accuracy'])\n",
        "\n",
        "# Treinamento do modelo com 3 épocas\n",
        "model.fit(x_train, y_train, epochs=3, verbose = 1)"
      ],
      "metadata": {
        "colab": {
          "base_uri": "https://localhost:8080/"
        },
        "id": "dvrYrTY3aUA9",
        "outputId": "5bd0d0fe-0136-4030-8363-46df149852e2"
      },
      "execution_count": null,
      "outputs": [
        {
          "output_type": "stream",
          "name": "stdout",
          "text": [
            "Epoch 1/3\n",
            "1875/1875 [==============================] - 9s 4ms/step - loss: 0.2731 - accuracy: 0.9210\n",
            "Epoch 2/3\n",
            "1875/1875 [==============================] - 10s 5ms/step - loss: 0.1253 - accuracy: 0.9632\n",
            "Epoch 3/3\n",
            "1875/1875 [==============================] - 10s 5ms/step - loss: 0.0878 - accuracy: 0.9736\n"
          ]
        },
        {
          "output_type": "execute_result",
          "data": {
            "text/plain": [
              "<keras.callbacks.History at 0x7f1fc448b3a0>"
            ]
          },
          "metadata": {},
          "execution_count": 12
        }
      ]
    },
    {
      "cell_type": "code",
      "source": [
        "# Avaliação do modelo\n",
        "model.evaluate(x_test, y_test)"
      ],
      "metadata": {
        "colab": {
          "base_uri": "https://localhost:8080/"
        },
        "id": "HR_Anj8Lack1",
        "outputId": "8420e9c5-dcd1-4a2b-e95d-564de07398a5"
      },
      "execution_count": null,
      "outputs": [
        {
          "output_type": "stream",
          "name": "stdout",
          "text": [
            "313/313 [==============================] - 1s 2ms/step - loss: 0.1009 - accuracy: 0.9693\n"
          ]
        },
        {
          "output_type": "execute_result",
          "data": {
            "text/plain": [
              "[0.10094483941793442, 0.9692999720573425]"
            ]
          },
          "metadata": {},
          "execution_count": 13
        }
      ]
    },
    {
      "cell_type": "markdown",
      "source": [
        "## Execução 2"
      ],
      "metadata": {
        "id": "jLej5NJ_cV_l"
      }
    },
    {
      "cell_type": "code",
      "source": [
        "# Estruturando a arquitetura da rede/ modelo\n",
        "model = tf.keras.models.Sequential([\n",
        " tf.keras.layers.Flatten(),\n",
        " tf.keras.layers.Dense(100, activation=tf.nn.tanh),\n",
        " tf.keras.layers.Dense(50, activation=tf.nn.tanh),\n",
        " tf.keras.layers.Dense(10, activation=tf.nn.softmax)\n",
        "])\n",
        "\n",
        "# Compilando o modelo\n",
        "model.compile(optimizer='adam',\n",
        " loss='sparse_categorical_crossentropy',\n",
        " metrics=['accuracy'])\n",
        "\n",
        "# Treinamento do modelo com 3 épocas\n",
        "model.fit(x_train, y_train, epochs=3, verbose = 1)"
      ],
      "metadata": {
        "colab": {
          "base_uri": "https://localhost:8080/"
        },
        "id": "aoqPFXX7caIS",
        "outputId": "8843e292-0e85-4df6-e1bd-faaa83d1fd8c"
      },
      "execution_count": null,
      "outputs": [
        {
          "output_type": "stream",
          "name": "stdout",
          "text": [
            "Epoch 1/3\n",
            "1875/1875 [==============================] - 37s 3ms/step - loss: 0.2782 - accuracy: 0.9200\n",
            "Epoch 2/3\n",
            "1875/1875 [==============================] - 7s 4ms/step - loss: 0.1271 - accuracy: 0.9619\n",
            "Epoch 3/3\n",
            "1875/1875 [==============================] - 6s 3ms/step - loss: 0.0867 - accuracy: 0.9739\n"
          ]
        },
        {
          "output_type": "execute_result",
          "data": {
            "text/plain": [
              "<keras.callbacks.History at 0x7f1fc43d6260>"
            ]
          },
          "metadata": {},
          "execution_count": 14
        }
      ]
    },
    {
      "cell_type": "code",
      "source": [
        "# Avaliação do modelo\n",
        "model.evaluate(x_test, y_test)"
      ],
      "metadata": {
        "colab": {
          "base_uri": "https://localhost:8080/"
        },
        "id": "JTmKQo18ccoO",
        "outputId": "0ae2bcbe-f574-48af-cf9c-be2b024ce57d"
      },
      "execution_count": null,
      "outputs": [
        {
          "output_type": "stream",
          "name": "stdout",
          "text": [
            "313/313 [==============================] - 1s 2ms/step - loss: 0.0978 - accuracy: 0.9709\n"
          ]
        },
        {
          "output_type": "execute_result",
          "data": {
            "text/plain": [
              "[0.09779883176088333, 0.9708999991416931]"
            ]
          },
          "metadata": {},
          "execution_count": 15
        }
      ]
    },
    {
      "cell_type": "markdown",
      "source": [
        "## Seção de Resultados"
      ],
      "metadata": {
        "id": "cKE5CVoRchw6"
      }
    },
    {
      "cell_type": "markdown",
      "source": [
        "Segue abaixo uma tabela com os valores de perda e acurácia para 2 execuções, junto aos dados de teste e com a arquitetura sugerida pelo enunciado. </p>\n",
        "\n",
        "|   Execução  | Perda (%) | Acurácia (%) |\n",
        "|:-----------:|:-----:|:--------:|\n",
        "|      1      |  0,101 |   96,93  |\n",
        "|      2      |  0,098 |   97,09  |"
      ],
      "metadata": {
        "id": "DaKf7nHPaKbA"
      }
    },
    {
      "cell_type": "markdown",
      "source": [
        "## **Tarefa:**"
      ],
      "metadata": {
        "id": "pZ4rWx7Ic-dG"
      }
    },
    {
      "cell_type": "markdown",
      "source": [
        "- Aplique melhorias ao código, de forma que seu resultado supere a estrutura fornecida.\n",
        "\n",
        "- Realize 2 execuções de sua estrutura proposta.\n",
        "\n",
        "- Forneça em seu relatório uma tabela com seus resultados obtidos (Perda e Acurácia) para as duas execuções de sua arquitetura.\n",
        "\n",
        "- Anexe seu código, de forma legível, à seção de resposta desta questão no relatório."
      ],
      "metadata": {
        "id": "He12iDYxbtUC"
      }
    }
  ]
}